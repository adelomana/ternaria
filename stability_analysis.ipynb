{
 "cells": [
  {
   "cell_type": "code",
   "execution_count": 1,
   "id": "a6e104fd-d513-4bb1-a44e-39f80175e01f",
   "metadata": {},
   "outputs": [],
   "source": [
    "import pandas"
   ]
  },
  {
   "cell_type": "code",
   "execution_count": 2,
   "id": "184ba0f0-122b-4b99-ba68-0bbc7b6a40d0",
   "metadata": {},
   "outputs": [],
   "source": [
    "# wget https://ars.els-cdn.com/content/image/1-s2.0-S1534580724007779-mmc4.xlsx"
   ]
  },
  {
   "cell_type": "code",
   "execution_count": 3,
   "id": "3baeeb4b-ff8a-4afb-8839-08ac18f113ad",
   "metadata": {},
   "outputs": [
    {
     "name": "stdout",
     "output_type": "stream",
     "text": [
      "18021\n"
     ]
    },
    {
     "data": {
      "text/plain": [
       "{'cluster 1 80S': 2850,\n",
       " 'cluster 2 80S': 2919,\n",
       " 'cluster 3 80S': 2654,\n",
       " 'cluster 4 80S': 3022,\n",
       " 'cluster 5 80S': 3198,\n",
       " 'cluster 6 80S': 3378}"
      ]
     },
     "execution_count": 3,
     "metadata": {},
     "output_type": "execute_result"
    }
   ],
   "source": [
    "df = pandas.read_excel('1-s2.0-S1534580724007779-mmc4.xlsx', sheet_name='Fuzzy_clusters_80S', index_col=0)\n",
    "\n",
    "\n",
    "# use only numeric columns (your 6 columns)\n",
    "num = df.select_dtypes(include=\"number\")\n",
    "\n",
    "# column (by name) holding the max for each row\n",
    "row_argmax = num.idxmax(axis=1)        # first max wins if there’s a tie\n",
    "\n",
    "# 1) mapping: index -> column name with max\n",
    "index_to_maxcol = row_argmax.to_dict()\n",
    "\n",
    "# 2) counts: how many rows max out in each column\n",
    "counts = row_argmax.value_counts().reindex(num.columns, fill_value=0).to_dict()\n",
    "\n",
    "print(sum(counts.values()))\n",
    "counts"
   ]
  },
  {
   "cell_type": "code",
   "execution_count": 4,
   "id": "29a8d7cc-ada2-49e5-b60a-1096ee08cd83",
   "metadata": {},
   "outputs": [
    {
     "name": "stdout",
     "output_type": "stream",
     "text": [
      "18021\n"
     ]
    },
    {
     "data": {
      "text/plain": [
       "{'cluster 1 LMW': 2616,\n",
       " 'cluster 2 LMW': 2063,\n",
       " 'cluster 3 LMW': 2606,\n",
       " 'cluster 4 LMW': 4366,\n",
       " 'cluster 5 LMW': 3395,\n",
       " 'cluster 6 LMW': 2975}"
      ]
     },
     "execution_count": 4,
     "metadata": {},
     "output_type": "execute_result"
    }
   ],
   "source": [
    "df = pandas.read_excel('1-s2.0-S1534580724007779-mmc4.xlsx', sheet_name='Fuzzy_clusters_LMW', index_col=0)\n",
    "\n",
    "\n",
    "# use only numeric columns (your 6 columns)\n",
    "num = df.select_dtypes(include=\"number\")\n",
    "\n",
    "# column (by name) holding the max for each row\n",
    "row_argmax = num.idxmax(axis=1)        # first max wins if there’s a tie\n",
    "\n",
    "# 1) mapping: index -> column name with max\n",
    "index_to_maxcol = row_argmax.to_dict()\n",
    "\n",
    "# 2) counts: how many rows max out in each column\n",
    "counts = row_argmax.value_counts().reindex(num.columns, fill_value=0).to_dict()\n",
    "\n",
    "print(sum(counts.values()))\n",
    "counts"
   ]
  },
  {
   "cell_type": "code",
   "execution_count": 5,
   "id": "9a383939-a600-44ef-b968-19ef94de6658",
   "metadata": {},
   "outputs": [
    {
     "name": "stdout",
     "output_type": "stream",
     "text": [
      "insert_id\n",
      "ENSDARG00000000001_ENSDART00000000004_19058_slc35a5_20318      cluster 1 HMW\n",
      "ENSDARG00000000018_ENSDART00000181044_14421_nrf1_72681         cluster 7 HMW\n",
      "ENSDARG00000000019_ENSDART00000124452_14118_ube2h_27446        cluster 5 HMW\n",
      "ENSDARG00000000068_ENSDART00000000069_2438_slc9a3r1a_113092    cluster 6 HMW\n",
      "ENSDARG00000000069_ENSDART00000000070_12170_dap_20320          cluster 3 HMW\n",
      "                                                                   ...      \n",
      "ENSDARG00000025554_ENSDART00000103273_1746_wdr83os_27060       cluster 4 HMW\n",
      "ENSDARG00000103318_ENSDART00000161570_7325_mrpl3_86762         cluster 4 HMW\n",
      "ENSDARG00000036698_ENSDART00000053300_7697_znf865_21263.6      cluster 2 HMW\n",
      "ENSDARG00000056892_ENSDART00000148517_5556_mpp6a_23746.2       cluster 2 HMW\n",
      "ENSDARG00000060768_ENSDART00000133628_7544_ankib1a_46871.1     cluster 2 HMW\n",
      "Length: 18021, dtype: object\n",
      "18021\n"
     ]
    },
    {
     "data": {
      "text/plain": [
       "{'cluster 1 HMW': 2276,\n",
       " 'cluster 2 HMW': 3261,\n",
       " 'cluster 3 HMW': 3295,\n",
       " 'cluster 4 HMW': 2357,\n",
       " 'cluster 5 HMW': 1449,\n",
       " 'cluster 6 HMW': 2701,\n",
       " 'cluster 7 HMW': 2682}"
      ]
     },
     "execution_count": 5,
     "metadata": {},
     "output_type": "execute_result"
    }
   ],
   "source": [
    "df = pandas.read_excel('1-s2.0-S1534580724007779-mmc4.xlsx', sheet_name='Fuzzy_clusters_HMW', index_col=0)\n",
    "\n",
    "\n",
    "# use only numeric columns (your 6 columns)\n",
    "num = df.select_dtypes(include=\"number\")\n",
    "\n",
    "# column (by name) holding the max for each row\n",
    "row_argmax = num.idxmax(axis=1)        # first max wins if there’s a tie\n",
    "print(row_argmax)\n",
    "\n",
    "# 1) mapping: index -> column name with max\n",
    "index_to_maxcol = row_argmax.to_dict()\n",
    "\n",
    "# 2) counts: how many rows max out in each column\n",
    "counts = row_argmax.value_counts().reindex(num.columns, fill_value=0).to_dict()\n",
    "\n",
    "print(sum(counts.values()))\n",
    "counts"
   ]
  },
  {
   "cell_type": "code",
   "execution_count": 6,
   "id": "6e18851d-dc3c-44e8-9c95-21098a5c145e",
   "metadata": {},
   "outputs": [
    {
     "data": {
      "text/plain": [
       "17951"
      ]
     },
     "execution_count": 6,
     "metadata": {},
     "output_type": "execute_result"
    }
   ],
   "source": [
    "63+36+10699+3705+3302+146"
   ]
  },
  {
   "cell_type": "code",
   "execution_count": null,
   "id": "b6b07c29-2b33-4e73-9e91-f44390f9a8d2",
   "metadata": {},
   "outputs": [],
   "source": []
  },
  {
   "cell_type": "code",
   "execution_count": null,
   "id": "b7688692-d255-4f68-8e76-276c8d6784a9",
   "metadata": {},
   "outputs": [],
   "source": []
  },
  {
   "cell_type": "code",
   "execution_count": null,
   "id": "2ab3919c-a633-47ca-a1a2-ee64add1a27d",
   "metadata": {},
   "outputs": [],
   "source": []
  },
  {
   "cell_type": "code",
   "execution_count": null,
   "id": "f6739add-8fed-47b1-bf70-4fdc063e6a5f",
   "metadata": {},
   "outputs": [],
   "source": []
  },
  {
   "cell_type": "code",
   "execution_count": null,
   "id": "24871ab7-6990-4dcc-8c9f-3df2f73dcf4b",
   "metadata": {},
   "outputs": [],
   "source": []
  },
  {
   "cell_type": "code",
   "execution_count": null,
   "id": "d4065576-cbf6-4e57-b4b3-95ae1ca33534",
   "metadata": {},
   "outputs": [],
   "source": []
  },
  {
   "cell_type": "code",
   "execution_count": null,
   "id": "d0fe782f-e172-46fe-b3c5-4210a36a2ae1",
   "metadata": {},
   "outputs": [],
   "source": []
  }
 ],
 "metadata": {
  "kernelspec": {
   "display_name": "Python 3 (ipykernel)",
   "language": "python",
   "name": "python3"
  },
  "language_info": {
   "codemirror_mode": {
    "name": "ipython",
    "version": 3
   },
   "file_extension": ".py",
   "mimetype": "text/x-python",
   "name": "python",
   "nbconvert_exporter": "python",
   "pygments_lexer": "ipython3",
   "version": "3.12.11"
  }
 },
 "nbformat": 4,
 "nbformat_minor": 5
}
