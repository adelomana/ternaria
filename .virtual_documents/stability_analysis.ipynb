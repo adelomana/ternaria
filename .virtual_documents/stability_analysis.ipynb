import pandas, numpy
import matplotlib, matplotlib.pyplot





# wget https://ars.els-cdn.com/content/image/1-s2.0-S1534580724007779-mmc4.xlsx


df = pandas.read_excel('1-s2.0-S1534580724007779-mmc4.xlsx', sheet_name='Reporter_stability_values', index_col=0)
df.iloc[2:5, 1]


sub = df.iloc[:, 18:]


y


a = df.loc['ENSDARG00000035324_ENSDART00000051184_14923_hnrnpl_54744', ]
print(a)
b = list(a[-4:])
print(b)
c = [0] + b
print(c)


x = numpy.array([0, 2, 4, 6, 10])
y = sub.to_numpy()  # shape: (n_rows, n_cols)
y_aug = numpy.c_[numpy.zeros((y.shape[0], 1)), y]  # shape: (n_rows, n_cols+1)



matplotlib.pyplot.plot(x, y_aug.T, linewidth=0.4, alpha=0.05, color='black')
matplotlib.pyplot.plot(x, c, 'o-', linewidth=3, alpha=2/3, color='tab:red', zorder=0)
matplotlib.pyplot.show()
























