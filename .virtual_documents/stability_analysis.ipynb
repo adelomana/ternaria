import pandas


# wget https://ars.els-cdn.com/content/image/1-s2.0-S1534580724007779-mmc4.xlsx


df = pandas.read_excel('1-s2.0-S1534580724007779-mmc4.xlsx', sheet_name='Fuzzy_clusters_80S', index_col=0)


# use only numeric columns (your 6 columns)
num = df.select_dtypes(include="number")

# column (by name) holding the max for each row
row_argmax = num.idxmax(axis=1)        # first max wins if there’s a tie

# 1) mapping: index -> column name with max
index_to_maxcol = row_argmax.to_dict()

# 2) counts: how many rows max out in each column
counts = row_argmax.value_counts().reindex(num.columns, fill_value=0).to_dict()

print(sum(counts.values()))
counts


df = pandas.read_excel('1-s2.0-S1534580724007779-mmc4.xlsx', sheet_name='Fuzzy_clusters_LMW', index_col=0)


# use only numeric columns (your 6 columns)
num = df.select_dtypes(include="number")

# column (by name) holding the max for each row
row_argmax = num.idxmax(axis=1)        # first max wins if there’s a tie

# 1) mapping: index -> column name with max
index_to_maxcol = row_argmax.to_dict()

# 2) counts: how many rows max out in each column
counts = row_argmax.value_counts().reindex(num.columns, fill_value=0).to_dict()

print(sum(counts.values()))
counts





63+36+10699+3705+3302+146





















