import pandas


# wget https://ars.els-cdn.com/content/image/1-s2.0-S1534580724007779-mmc3.xlsx


df = pandas.read_excel('1-s2.0-S1534580724007779-mmc3.xlsx', sheet_name='Hierarchical clusters', index_col=0)
df


sub = df[df.index == 6]
sub


sub.set_index("insert_id", inplace=True)


order = sub.median(axis=1).sort_values(ascending=False).index
sub_sorted = sub.loc[order]
sub_sorted


for element in sub_sorted.index[:10]:
    print(element, sub_sorted.loc[element, :].median())
    #print(sub_sorted.loc[element, :])
    #print(sub_sorted.loc[element, :].median())
    #print()


# sequences are in https://data.mendeley.com/public-files/datasets/rf98wbhzgf/files/b1ec5d79-06f0-463f-88b1-26284d97b7ac/file_downloaded
























